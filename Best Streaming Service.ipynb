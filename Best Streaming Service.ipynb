{
 "cells": [
  {
   "cell_type": "code",
   "execution_count": 130,
   "metadata": {},
   "outputs": [],
   "source": [
    "import os\n",
    "import pandas as pd\n",
    "import numpy as np\n",
    "import seaborn as sns"
   ]
  },
  {
   "cell_type": "code",
   "execution_count": 133,
   "metadata": {},
   "outputs": [
    {
     "data": {
      "text/html": [
       "<div>\n",
       "<style scoped>\n",
       "    .dataframe tbody tr th:only-of-type {\n",
       "        vertical-align: middle;\n",
       "    }\n",
       "\n",
       "    .dataframe tbody tr th {\n",
       "        vertical-align: top;\n",
       "    }\n",
       "\n",
       "    .dataframe thead th {\n",
       "        text-align: right;\n",
       "    }\n",
       "</style>\n",
       "<table border=\"1\" class=\"dataframe\">\n",
       "  <thead>\n",
       "    <tr style=\"text-align: right;\">\n",
       "      <th></th>\n",
       "      <th>Unnamed: 0</th>\n",
       "      <th>Title</th>\n",
       "      <th>Year</th>\n",
       "      <th>Age</th>\n",
       "      <th>IMDb</th>\n",
       "      <th>Rotten Tomatoes</th>\n",
       "      <th>Netflix</th>\n",
       "      <th>Hulu</th>\n",
       "      <th>Prime Video</th>\n",
       "      <th>Disney+</th>\n",
       "      <th>type</th>\n",
       "    </tr>\n",
       "  </thead>\n",
       "  <tbody>\n",
       "    <tr>\n",
       "      <th>0</th>\n",
       "      <td>0</td>\n",
       "      <td>Breaking Bad</td>\n",
       "      <td>2008</td>\n",
       "      <td>18+</td>\n",
       "      <td>9.5</td>\n",
       "      <td>96%</td>\n",
       "      <td>1</td>\n",
       "      <td>0</td>\n",
       "      <td>0</td>\n",
       "      <td>0</td>\n",
       "      <td>1</td>\n",
       "    </tr>\n",
       "    <tr>\n",
       "      <th>1</th>\n",
       "      <td>1</td>\n",
       "      <td>Stranger Things</td>\n",
       "      <td>2016</td>\n",
       "      <td>16+</td>\n",
       "      <td>8.8</td>\n",
       "      <td>93%</td>\n",
       "      <td>1</td>\n",
       "      <td>0</td>\n",
       "      <td>0</td>\n",
       "      <td>0</td>\n",
       "      <td>1</td>\n",
       "    </tr>\n",
       "    <tr>\n",
       "      <th>2</th>\n",
       "      <td>2</td>\n",
       "      <td>Money Heist</td>\n",
       "      <td>2017</td>\n",
       "      <td>18+</td>\n",
       "      <td>8.4</td>\n",
       "      <td>91%</td>\n",
       "      <td>1</td>\n",
       "      <td>0</td>\n",
       "      <td>0</td>\n",
       "      <td>0</td>\n",
       "      <td>1</td>\n",
       "    </tr>\n",
       "    <tr>\n",
       "      <th>3</th>\n",
       "      <td>3</td>\n",
       "      <td>Sherlock</td>\n",
       "      <td>2010</td>\n",
       "      <td>16+</td>\n",
       "      <td>9.1</td>\n",
       "      <td>78%</td>\n",
       "      <td>1</td>\n",
       "      <td>0</td>\n",
       "      <td>0</td>\n",
       "      <td>0</td>\n",
       "      <td>1</td>\n",
       "    </tr>\n",
       "    <tr>\n",
       "      <th>4</th>\n",
       "      <td>4</td>\n",
       "      <td>Better Call Saul</td>\n",
       "      <td>2015</td>\n",
       "      <td>18+</td>\n",
       "      <td>8.7</td>\n",
       "      <td>97%</td>\n",
       "      <td>1</td>\n",
       "      <td>0</td>\n",
       "      <td>0</td>\n",
       "      <td>0</td>\n",
       "      <td>1</td>\n",
       "    </tr>\n",
       "  </tbody>\n",
       "</table>\n",
       "</div>"
      ],
      "text/plain": [
       "   Unnamed: 0             Title  Year  Age  IMDb Rotten Tomatoes  Netflix  \\\n",
       "0           0      Breaking Bad  2008  18+   9.5             96%        1   \n",
       "1           1   Stranger Things  2016  16+   8.8             93%        1   \n",
       "2           2       Money Heist  2017  18+   8.4             91%        1   \n",
       "3           3          Sherlock  2010  16+   9.1             78%        1   \n",
       "4           4  Better Call Saul  2015  18+   8.7             97%        1   \n",
       "\n",
       "   Hulu  Prime Video  Disney+  type  \n",
       "0     0            0        0     1  \n",
       "1     0            0        0     1  \n",
       "2     0            0        0     1  \n",
       "3     0            0        0     1  \n",
       "4     0            0        0     1  "
      ]
     },
     "execution_count": 133,
     "metadata": {},
     "output_type": "execute_result"
    }
   ],
   "source": [
    "shows = pd.read_csv('data/tv_shows.csv')\n",
    "movies = pd.read_csv('data/movies.csv')\n",
    "shows.head()"
   ]
  },
  {
   "cell_type": "code",
   "execution_count": 134,
   "metadata": {},
   "outputs": [
    {
     "data": {
      "text/html": [
       "<div>\n",
       "<style scoped>\n",
       "    .dataframe tbody tr th:only-of-type {\n",
       "        vertical-align: middle;\n",
       "    }\n",
       "\n",
       "    .dataframe tbody tr th {\n",
       "        vertical-align: top;\n",
       "    }\n",
       "\n",
       "    .dataframe thead th {\n",
       "        text-align: right;\n",
       "    }\n",
       "</style>\n",
       "<table border=\"1\" class=\"dataframe\">\n",
       "  <thead>\n",
       "    <tr style=\"text-align: right;\">\n",
       "      <th></th>\n",
       "      <th>Unnamed: 0</th>\n",
       "      <th>ID</th>\n",
       "      <th>Title</th>\n",
       "      <th>Year</th>\n",
       "      <th>Age</th>\n",
       "      <th>IMDb</th>\n",
       "      <th>Rotten Tomatoes</th>\n",
       "      <th>Netflix</th>\n",
       "      <th>Hulu</th>\n",
       "      <th>Prime Video</th>\n",
       "      <th>Disney+</th>\n",
       "      <th>Type</th>\n",
       "      <th>Directors</th>\n",
       "      <th>Genres</th>\n",
       "      <th>Country</th>\n",
       "      <th>Language</th>\n",
       "      <th>Runtime</th>\n",
       "    </tr>\n",
       "  </thead>\n",
       "  <tbody>\n",
       "    <tr>\n",
       "      <th>0</th>\n",
       "      <td>0</td>\n",
       "      <td>1</td>\n",
       "      <td>Inception</td>\n",
       "      <td>2010</td>\n",
       "      <td>13+</td>\n",
       "      <td>8.8</td>\n",
       "      <td>87%</td>\n",
       "      <td>1</td>\n",
       "      <td>0</td>\n",
       "      <td>0</td>\n",
       "      <td>0</td>\n",
       "      <td>0</td>\n",
       "      <td>Christopher Nolan</td>\n",
       "      <td>Action,Adventure,Sci-Fi,Thriller</td>\n",
       "      <td>United States,United Kingdom</td>\n",
       "      <td>English,Japanese,French</td>\n",
       "      <td>148.0</td>\n",
       "    </tr>\n",
       "    <tr>\n",
       "      <th>1</th>\n",
       "      <td>1</td>\n",
       "      <td>2</td>\n",
       "      <td>The Matrix</td>\n",
       "      <td>1999</td>\n",
       "      <td>18+</td>\n",
       "      <td>8.7</td>\n",
       "      <td>87%</td>\n",
       "      <td>1</td>\n",
       "      <td>0</td>\n",
       "      <td>0</td>\n",
       "      <td>0</td>\n",
       "      <td>0</td>\n",
       "      <td>Lana Wachowski,Lilly Wachowski</td>\n",
       "      <td>Action,Sci-Fi</td>\n",
       "      <td>United States</td>\n",
       "      <td>English</td>\n",
       "      <td>136.0</td>\n",
       "    </tr>\n",
       "    <tr>\n",
       "      <th>2</th>\n",
       "      <td>2</td>\n",
       "      <td>3</td>\n",
       "      <td>Avengers: Infinity War</td>\n",
       "      <td>2018</td>\n",
       "      <td>13+</td>\n",
       "      <td>8.5</td>\n",
       "      <td>84%</td>\n",
       "      <td>1</td>\n",
       "      <td>0</td>\n",
       "      <td>0</td>\n",
       "      <td>0</td>\n",
       "      <td>0</td>\n",
       "      <td>Anthony Russo,Joe Russo</td>\n",
       "      <td>Action,Adventure,Sci-Fi</td>\n",
       "      <td>United States</td>\n",
       "      <td>English</td>\n",
       "      <td>149.0</td>\n",
       "    </tr>\n",
       "    <tr>\n",
       "      <th>3</th>\n",
       "      <td>3</td>\n",
       "      <td>4</td>\n",
       "      <td>Back to the Future</td>\n",
       "      <td>1985</td>\n",
       "      <td>7+</td>\n",
       "      <td>8.5</td>\n",
       "      <td>96%</td>\n",
       "      <td>1</td>\n",
       "      <td>0</td>\n",
       "      <td>0</td>\n",
       "      <td>0</td>\n",
       "      <td>0</td>\n",
       "      <td>Robert Zemeckis</td>\n",
       "      <td>Adventure,Comedy,Sci-Fi</td>\n",
       "      <td>United States</td>\n",
       "      <td>English</td>\n",
       "      <td>116.0</td>\n",
       "    </tr>\n",
       "    <tr>\n",
       "      <th>4</th>\n",
       "      <td>4</td>\n",
       "      <td>5</td>\n",
       "      <td>The Good, the Bad and the Ugly</td>\n",
       "      <td>1966</td>\n",
       "      <td>18+</td>\n",
       "      <td>8.8</td>\n",
       "      <td>97%</td>\n",
       "      <td>1</td>\n",
       "      <td>0</td>\n",
       "      <td>1</td>\n",
       "      <td>0</td>\n",
       "      <td>0</td>\n",
       "      <td>Sergio Leone</td>\n",
       "      <td>Western</td>\n",
       "      <td>Italy,Spain,West Germany</td>\n",
       "      <td>Italian</td>\n",
       "      <td>161.0</td>\n",
       "    </tr>\n",
       "  </tbody>\n",
       "</table>\n",
       "</div>"
      ],
      "text/plain": [
       "   Unnamed: 0  ID                           Title  Year  Age  IMDb  \\\n",
       "0           0   1                       Inception  2010  13+   8.8   \n",
       "1           1   2                      The Matrix  1999  18+   8.7   \n",
       "2           2   3          Avengers: Infinity War  2018  13+   8.5   \n",
       "3           3   4              Back to the Future  1985   7+   8.5   \n",
       "4           4   5  The Good, the Bad and the Ugly  1966  18+   8.8   \n",
       "\n",
       "  Rotten Tomatoes  Netflix  Hulu  Prime Video  Disney+  Type  \\\n",
       "0             87%        1     0            0        0     0   \n",
       "1             87%        1     0            0        0     0   \n",
       "2             84%        1     0            0        0     0   \n",
       "3             96%        1     0            0        0     0   \n",
       "4             97%        1     0            1        0     0   \n",
       "\n",
       "                        Directors                            Genres  \\\n",
       "0               Christopher Nolan  Action,Adventure,Sci-Fi,Thriller   \n",
       "1  Lana Wachowski,Lilly Wachowski                     Action,Sci-Fi   \n",
       "2         Anthony Russo,Joe Russo           Action,Adventure,Sci-Fi   \n",
       "3                 Robert Zemeckis           Adventure,Comedy,Sci-Fi   \n",
       "4                    Sergio Leone                           Western   \n",
       "\n",
       "                        Country                 Language  Runtime  \n",
       "0  United States,United Kingdom  English,Japanese,French    148.0  \n",
       "1                 United States                  English    136.0  \n",
       "2                 United States                  English    149.0  \n",
       "3                 United States                  English    116.0  \n",
       "4      Italy,Spain,West Germany                  Italian    161.0  "
      ]
     },
     "execution_count": 134,
     "metadata": {},
     "output_type": "execute_result"
    }
   ],
   "source": [
    "movies.head()"
   ]
  },
  {
   "cell_type": "code",
   "execution_count": 135,
   "metadata": {},
   "outputs": [],
   "source": [
    "shows = shows.drop(['Unnamed: 0', 'type'], axis=1)"
   ]
  },
  {
   "cell_type": "code",
   "execution_count": null,
   "metadata": {},
   "outputs": [],
   "source": []
  },
  {
   "cell_type": "markdown",
   "metadata": {},
   "source": [
    "## What type of analysis are we interested in?\n",
    "1. Which streaming service has the best average reviews?  \n",
    "2. Which streaming service has the most shows that are highly rated?\n",
    "3. Which streaming service has the best spread of shows released in different years?"
   ]
  },
  {
   "cell_type": "code",
   "execution_count": 136,
   "metadata": {},
   "outputs": [
    {
     "data": {
      "text/plain": [
       "[7.163279955825518, 7.0611074489123276, 7.1798010711553095, 6.923668639053257]"
      ]
     },
     "execution_count": 136,
     "metadata": {},
     "output_type": "execute_result"
    }
   ],
   "source": [
    "shows[['Netflix', 'Hulu', 'Prime Video', 'Disney+', 'IMDb']]\n",
    "# Finding average rating for netflix\n",
    "netflix = shows[shows['Netflix'] == 1][['Netflix', 'IMDb']]\n",
    "netflix = netflix[netflix['IMDb'].notna()]\n",
    "netflix_mean = np.mean(netflix['IMDb'])\n",
    "# hulu\n",
    "hulu = shows[shows['Hulu'] == 1][['Hulu', 'IMDb']]\n",
    "hulu = hulu[hulu['IMDb'].notna()]\n",
    "hulu_mean = np.mean(hulu['IMDb'])\n",
    "# amazon\n",
    "amazon = shows[shows['Prime Video'] == 1][['Prime Video', 'IMDb']]\n",
    "amazon = amazon[amazon['IMDb'].notna()]\n",
    "amazon_mean = np.mean(amazon['IMDb'])\n",
    "# disney\n",
    "disney = shows[shows['Disney+'] == 1][['Disney+', 'IMDb']]\n",
    "disney = disney[disney['IMDb'].notna()]\n",
    "disney_mean = np.mean(disney['IMDb'])\n",
    "means = [netflix_mean, hulu_mean, amazon_mean, disney_mean]\n",
    "means"
   ]
  },
  {
   "cell_type": "code",
   "execution_count": 137,
   "metadata": {},
   "outputs": [
    {
     "data": {
      "image/png": "[encoded data removed]",
      "text/plain": [
       "<matplotlib.figure.Figure at 0x1a289f1e80>"
      ]
     },
     "metadata": {},
     "output_type": "display_data"
    }
   ],
   "source": [
    "# convert data to dataframe and plot\n",
    "df_mean = pd.DataFrame({\n",
    "    'Streaming Service':['Netflix', 'Hulu', 'Prime Video', 'Disney+'],\n",
    "    'Combined Ratings':means\n",
    "})\n",
    "ax = sns.barplot(x='Streaming Service', y='Combined Ratings', data=df_mean, \n",
    "                 palette=['red', 'green', 'black', 'blue']).set_title('Average Rating of All Shows')"
   ]
  },
  {
   "cell_type": "code",
   "execution_count": 141,
   "metadata": {},
   "outputs": [
    {
     "data": {
      "text/plain": [
       "[1330, 974, 879, 89]"
      ]
     },
     "execution_count": 141,
     "metadata": {},
     "output_type": "execute_result"
    }
   ],
   "source": [
    "netflix_good = pd.cut(netflix['IMDb'], 3, labels=['Bad', 'Ok', 'Good']).value_counts().values[0]\n",
    "hulu_good = pd.cut(hulu['IMDb'], 3, labels=['Bad', 'Ok', 'Good']).value_counts().values[0]\n",
    "amazon_good = pd.cut(amazon['IMDb'], 3, labels=['Bad', 'Ok', 'Good']).value_counts().values[0]\n",
    "disney_good = pd.cut(disney['IMDb'], 3, labels=['Bad', 'Ok', 'Good']).value_counts().values[0]\n",
    "best = [netflix_good, hulu_good, amazon_good, disney_good]\n",
    "best"
   ]
  },
  {
   "cell_type": "code",
   "execution_count": 139,
   "metadata": {},
   "outputs": [
    {
     "data": {
      "image/png": "[encoded data removed]",
      "text/plain": [
       "<matplotlib.figure.Figure at 0x1a2ba83f28>"
      ]
     },
     "metadata": {},
     "output_type": "display_data"
    }
   ],
   "source": [
    "# convert data to dataframe and plot\n",
    "df_mean = pd.DataFrame({\n",
    "    'Streaming Service':['Netflix', 'Hulu', 'Prime Video', 'Disney+'],\n",
    "    'Total Good Shows':best\n",
    "})\n",
    "ax = sns.barplot(x='Streaming Service', y='Total Good Shows', data=df_mean, \n",
    "                 palette=['red', 'green', 'black', 'blue']).set_title('Total Good Shows')"
   ]
  },
  {
   "cell_type": "code",
   "execution_count": 150,
   "metadata": {},
   "outputs": [
    {
     "data": {
      "text/plain": [
       "array([0.00331309, 0.0115958 , 0.11264495, 0.87244616])"
      ]
     },
     "execution_count": 150,
     "metadata": {},
     "output_type": "execute_result"
    }
   ],
   "source": [
    "# Finding the most content from ages\n",
    "# netflix rating for movie age\n",
    "netflix = shows[shows['Netflix'] == 1][['Netflix', 'IMDb', 'Year']]\n",
    "netflix = netflix[netflix['IMDb'].notna()]\n",
    "netflix['age'] = pd.cut(netflix['Year'], [1950, 1969, 1989, 2009, 2029], \n",
    "       labels=[\"50s and 60s\", \"70s and 80s\",\"90s and 00s\", \"10s and 20s\"])\n",
    "netflix_by_age = netflix.groupby('age')['IMDb'].count()\n",
    "# hulu rating for movie age\n",
    "hulu = shows[shows['Hulu'] == 1][['Hulu', 'IMDb', 'Year']]\n",
    "hulu = hulu[hulu['IMDb'].notna()]\n",
    "hulu['age'] = pd.cut(hulu['Year'], [1950, 1969, 1989, 2009, 2029], \n",
    "       labels=[\"50s and 60s\", \"70s and 80s\",\"90s and 00s\", \"10s and 20s\"])\n",
    "hulu_by_age = hulu.groupby('age')['IMDb'].count()\n",
    "# amazon rating for movie age\n",
    "amazon = shows[shows['Prime Video'] == 1][['Prime Video', 'IMDb', 'Year']]\n",
    "amazon = amazon[amazon['IMDb'].notna()]\n",
    "amazon['age'] = pd.cut(amazon['Year'], [1950, 1969, 1989, 2009, 2029], \n",
    "       labels=[\"50s and 60s\", \"70s and 80s\",\"90s and 00s\", \"10s and 20s\"])\n",
    "amazon_by_age = amazon.groupby('age')['IMDb'].count()\n",
    "# disney rating for movie age\n",
    "disney = shows[shows['Disney+'] == 1][['Disney+', 'IMDb', 'Year']]\n",
    "disney = disney[disney['IMDb'].notna()]\n",
    "disney['age'] = pd.cut(disney['Year'], [1950, 1969, 1989, 2009, 2029], \n",
    "       labels=[\"50s and 60s\", \"70s and 80s\",\"90s and 00s\", \"10s and 20s\"])\n",
    "disney_by_age = disney.groupby('age')['IMDb'].count()\n",
    "netflix_by_age, hulu_by_age, amazon_by_age, disney_by_age\n",
    "netflix_by_age.values / sum(netflix_by_age)"
   ]
  },
  {
   "cell_type": "code",
   "execution_count": 144,
   "metadata": {},
   "outputs": [
    {
     "data": {
      "text/plain": [
       "(Age\n",
       " 13+      3\n",
       " 16+    396\n",
       " 18+    359\n",
       " 7+     296\n",
       " all    169\n",
       " Name: IMDb, dtype: int64, Age\n",
       " 16+    511\n",
       " 18+    238\n",
       " 7+     364\n",
       " all    156\n",
       " Name: IMDb, dtype: int64, Age\n",
       " 13+      1\n",
       " 16+    209\n",
       " 18+    182\n",
       " 7+     217\n",
       " all    185\n",
       " Name: IMDb, dtype: int64, Age\n",
       " 16+     3\n",
       " 7+     66\n",
       " all    80\n",
       " Name: IMDb, dtype: int64)"
      ]
     },
     "execution_count": 144,
     "metadata": {},
     "output_type": "execute_result"
    }
   ],
   "source": [
    "# Finding the most content from ages\n",
    "# netflix rating for movie age\n",
    "netflix = shows[shows['Netflix'] == 1][['Netflix', 'IMDb', 'Age']]\n",
    "netflix = netflix[netflix['IMDb'].notna()]\n",
    "netflix_by_age = netflix.groupby('Age')['IMDb'].count()\n",
    "# hulu rating for movie age\n",
    "hulu = shows[shows['Hulu'] == 1][['Hulu', 'IMDb', 'Age']]\n",
    "hulu = hulu[hulu['IMDb'].notna()]\n",
    "hulu_by_age = hulu.groupby('Age')['IMDb'].count()\n",
    "# amazon rating for movie age\n",
    "amazon = shows[shows['Prime Video'] == 1][['Prime Video', 'IMDb', 'Age']]\n",
    "amazon = amazon[amazon['IMDb'].notna()]\n",
    "amazon_by_age = amazon.groupby('Age')['IMDb'].count()\n",
    "# disney rating for movie age\n",
    "disney = shows[shows['Disney+'] == 1][['Disney+', 'IMDb', 'Age']]\n",
    "disney = disney[disney['IMDb'].notna()]\n",
    "disney_by_age = disney.groupby('Age')['IMDb'].count()\n",
    "netflix_by_age, hulu_by_age, amazon_by_age, disney_by_age"
   ]
  },
  {
   "cell_type": "code",
   "execution_count": null,
   "metadata": {},
   "outputs": [],
   "source": []
  },
  {
   "cell_type": "code",
   "execution_count": null,
   "metadata": {},
   "outputs": [],
   "source": []
  },
  {
   "cell_type": "code",
   "execution_count": null,
   "metadata": {},
   "outputs": [],
   "source": []
  }
 ],
 "metadata": {
  "kernelspec": {
   "display_name": "Python 3",
   "language": "python",
   "name": "python3"
  },
  "language_info": {
   "codemirror_mode": {
    "name": "ipython",
    "version": 3
   },
   "file_extension": ".py",
   "mimetype": "text/x-python",
   "name": "python",
   "nbconvert_exporter": "python",
   "pygments_lexer": "ipython3",
   "version": "3.6.4"
  }
 },
 "nbformat": 4,
 "nbformat_minor": 2
}
